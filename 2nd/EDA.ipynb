{
 "cells": [
  {
   "cell_type": "markdown",
   "id": "cb1cfb7e",
   "metadata": {},
   "source": [
    "# Simple EDA\n",
    "### 1. 클래스 별 데이터 개수 체크\n",
    ": 데이터 불균형 확인\n",
    "### 2. 중복 데이터 여부 체크\n",
    ": 중복 데이터 존재\n",
    "### 3. tokenizer 적용 후 문장 당 단어 개수 체크\n",
    ": 산술 평균으로 계산 시 평균 20개 단어가 존재\n",
    "### 4. 문장 당 단어 개수 시각화\n",
    ": 그래프 참조\n",
    "### 5. 단어 개수가 32개 이하인 문장의 비율 체크\n",
    ": 전체의 약 86%"
   ]
  },
  {
   "cell_type": "code",
   "execution_count": 1,
   "id": "d9a09f03",
   "metadata": {},
   "outputs": [
    {
     "name": "stdout",
     "output_type": "stream",
     "text": [
      "클래스 별 데이터 개수 체크\n",
      "{1: 919251, 2: 138613, 3: 143429, 4: 164124, 5: 281436, 6: 367265, 7: 538344, 8: 868355, 9: 982114, 10: 4597069}\n",
      "\n",
      "데이터 중복 체크\n",
      "len(train_x) 9000000\n",
      "len(set(train_x)) 8430733\n",
      "\n",
      "['ㅈ', 'ㅣ', '루', '한', '부분', '##도', '이', '##ㅛ', '##지만', '##자', '##밌', '##게', '잘', '뷰', '##ㅏ', '##어요', '##잔', '##인', '##한', '장면', '##도', '많', '##음', '##한', '##석', '##규', '김', '##래', '##원', '연기', '##는', '굿', '프리', '##즌', '볼', '##만', '해', '##류', 'ㅈ', 'ㅣ', '루', '한', '부자', '##밌', '##게', '잘', '뷰', '##ㅏ', '##어요', '##잔', '##인', '##한', '장면', '##도', '많', '##음', '##한', '##석', '##규', '김', '##래', '##원', '연기', '##는', '굿', '굿', '프리', '##즌', '볼', '##만', '해', '##류']\n",
      "tokenizer 이후 평균 문장 당 단어 개수 : 20.44200166225167\n",
      "len(length_dic) 142\n"
     ]
    }
   ],
   "source": [
    "from transformers import ElectraTokenizer\n",
    "import matplotlib.pyplot as plt\n",
    "import numpy as np\n",
    "\n",
    "# ============================================================================\n",
    "# 1.\n",
    "train_y = []\n",
    "with open(\"./inputs/train_label\", 'rt', encoding='UTF-8') as f:\n",
    "    for i in f:\n",
    "        train_y.append(i[:-1])\n",
    "\n",
    "dic = {}\n",
    "for i in range(1, 10 + 1):\n",
    "    dic[i] = 0\n",
    "\n",
    "for i in train_y:\n",
    "    dic[int(i)] += 1\n",
    "print(\"클래스 별 데이터 개수 체크\")\n",
    "print(dic)\n",
    "print()\n",
    "\n",
    "\n",
    "# ============================================================================\n",
    "# 2.\n",
    "train_x = []\n",
    "with open(\"./inputs/train_data\", 'rt', encoding='UTF-8') as f:\n",
    "    for i in f:\n",
    "        train_x.append(i[:-1])\n",
    "\n",
    "# 데이터 중 중복되는 문장이 있음\n",
    "print(\"데이터 중복 체크\")\n",
    "print(\"len(train_x)\", len(train_x))\n",
    "print(\"len(set(train_x))\", len(set(train_x)))\n",
    "print()\n",
    "\n",
    "train_x = list(set(train_x))\n",
    "\n",
    "# ============================================================================\n",
    "# 3.\n",
    "tokenizer = ElectraTokenizer.from_pretrained(\"monologg/koelectra-base-v3-discriminator\")\n",
    "print(tokenizer.tokenize(train_x[1]))\n",
    "x = [len(tokenizer.tokenize(i)) for i in train_x]\n",
    "print(\"tokenizer 이후 평균 문장 당 단어 개수 :\", sum(x) / len(x))\n",
    "\n",
    "\n",
    "length_dic = {}\n",
    "for i in x:\n",
    "    if i not in length_dic:\n",
    "        length_dic[i] = 1\n",
    "    else:\n",
    "        length_dic[i] += 1\n",
    "\n",
    "print(\"len(length_dic)\", len(length_dic))"
   ]
  },
  {
   "cell_type": "code",
   "execution_count": 2,
   "id": "9348739d",
   "metadata": {},
   "outputs": [
    {
     "name": "stdout",
     "output_type": "stream",
     "text": [
      "len(inputs) 142\n",
      "len(y) 142\n",
      "tokenizer 이후 1개 문장 당 단어 개수 분포\n"
     ]
    },
    {
     "data": {
      "image/png": "[encoded data removed]",
      "text/plain": [
       "<Figure size 432x288 with 1 Axes>"
      ]
     },
     "metadata": {
      "needs_background": "light"
     },
     "output_type": "display_data"
    }
   ],
   "source": [
    "# ============================================================================\n",
    "# 4.\n",
    "temp = [(i, length_dic[i]) for i in length_dic]\n",
    "temp = sorted(temp, key=lambda x: x[0])\n",
    "\n",
    "inputs = [i[0] for i in temp]\n",
    "y = [i[1] for i in temp]\n",
    "\n",
    "print(\"len(inputs)\", len(inputs))\n",
    "print(\"len(y)\", len(y))\n",
    "\n",
    "print(\"tokenizer 이후 1개 문장 당 단어 개수 분포\")\n",
    "plt.bar(inputs, y)\n",
    "plt.grid(True)\n",
    "plt.show()"
   ]
  },
  {
   "cell_type": "code",
   "execution_count": 3,
   "id": "a67233a5",
   "metadata": {},
   "outputs": [
    {
     "name": "stdout",
     "output_type": "stream",
     "text": [
      "tokenizer 이후 32개 이하 단어 포함 비율 : 0.8627583153208623\n"
     ]
    }
   ],
   "source": [
    "# ============================================================================\n",
    "# 5.\n",
    "num = 0\n",
    "for i in y[:32]:\n",
    "    num += i\n",
    "print(\"tokenizer 이후 32개 이하 단어 포함 비율 :\", num / sum(y))"
   ]
  }
 ],
 "metadata": {
  "kernelspec": {
   "display_name": "algorima_venv",
   "language": "python",
   "name": "venv"
  },
  "language_info": {
   "codemirror_mode": {
    "name": "ipython",
    "version": 3
   },
   "file_extension": ".py",
   "mimetype": "text/x-python",
   "name": "python",
   "nbconvert_exporter": "python",
   "pygments_lexer": "ipython3",
   "version": "3.8.8"
  }
 },
 "nbformat": 4,
 "nbformat_minor": 5
}
